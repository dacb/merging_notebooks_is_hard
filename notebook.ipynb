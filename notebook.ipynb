{
 "cells": [
  {
   "cell_type": "markdown",
   "id": "european-blackjack",
   "metadata": {},
   "source": [
    "# This is a simple notebook to demonstrate issues with notebooks and version control\n"
   ]
  },
  {
   "cell_type": "markdown",
   "id": "bulgarian-asbestos",
   "metadata": {},
   "source": [
    "We will use it to create a merge conflict"
   ]
  },
  {
   "cell_type": "code",
   "execution_count": 2,
   "id": "signed-crash",
   "metadata": {},
   "outputs": [],
   "source": [
    "def this_is_a_function():\n",
    "    print(\"Sunday, September 19 is International Talk Like a Pirate Day 2021\")"
   ]
  },
  {
   "cell_type": "code",
   "execution_count": 3,
   "id": "municipal-concern",
   "metadata": {},
   "outputs": [
    {
     "name": "stdout",
     "output_type": "stream",
     "text": [
      "Sunday, September 19 is International Talk Like a Pirate Day 2021\n"
     ]
    }
   ],
   "source": [
    "this_is_a_function()"
   ]
  },
  {
   "cell_type": "markdown",
   "id": "cordless-cliff",
   "metadata": {},
   "source": [
    "This is another cell"
   ]
  },
  {
   "cell_type": "code",
   "execution_count": null,
   "id": "cordless-miller",
   "metadata": {},
   "outputs": [],
   "source": []
  }
 ],
 "metadata": {
  "kernelspec": {
   "display_name": "Python 3",
   "language": "python",
   "name": "python3"
  },
  "language_info": {
   "codemirror_mode": {
    "name": "ipython",
    "version": 3
   },
   "file_extension": ".py",
   "mimetype": "text/x-python",
   "name": "python",
   "nbconvert_exporter": "python",
   "pygments_lexer": "ipython3",
   "version": "3.7.9"
  }
 },
 "nbformat": 4,
 "nbformat_minor": 5
}
